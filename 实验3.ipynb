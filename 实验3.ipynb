{
 "cells": [
  {
   "cell_type": "markdown",
   "metadata": {},
   "source": [
    "# <center>实验三 贷款违约预测</center>\n",
    "<center>金融学（互联网+金融）1602班 沈吉梅 20160756</center>"
   ]
  },
  {
   "cell_type": "code",
   "execution_count": 1,
   "metadata": {},
   "outputs": [],
   "source": [
    "import numpy as np\n",
    "import pandas as pd\n",
    "import copy\n",
    "import time\n",
    "import matplotlib.pyplot as plt\n",
    "from sklearn.decomposition import PCA \n",
    "from sklearn import preprocessing"
   ]
  },
  {
   "cell_type": "code",
   "execution_count": 2,
   "metadata": {},
   "outputs": [
    {
     "name": "stderr",
     "output_type": "stream",
     "text": [
      "C:\\Users\\Jimei\\Anaconda3\\lib\\site-packages\\IPython\\core\\interactiveshell.py:2785: DtypeWarning: Columns (135,204,274,417) have mixed types. Specify dtype option on import or set low_memory=False.\n",
      "  interactivity=interactivity, compiler=compiler, result=result)\n"
     ]
    }
   ],
   "source": [
    "df = pd.read_csv(\"train_v2.csv\")"
   ]
  },
  {
   "cell_type": "code",
   "execution_count": 3,
   "metadata": {},
   "outputs": [
    {
     "data": {
      "text/html": [
       "<div>\n",
       "<style scoped>\n",
       "    .dataframe tbody tr th:only-of-type {\n",
       "        vertical-align: middle;\n",
       "    }\n",
       "\n",
       "    .dataframe tbody tr th {\n",
       "        vertical-align: top;\n",
       "    }\n",
       "\n",
       "    .dataframe thead th {\n",
       "        text-align: right;\n",
       "    }\n",
       "</style>\n",
       "<table border=\"1\" class=\"dataframe\">\n",
       "  <thead>\n",
       "    <tr style=\"text-align: right;\">\n",
       "      <th></th>\n",
       "      <th>id</th>\n",
       "      <th>f1</th>\n",
       "      <th>f2</th>\n",
       "      <th>f3</th>\n",
       "      <th>f4</th>\n",
       "      <th>f5</th>\n",
       "      <th>f6</th>\n",
       "      <th>f7</th>\n",
       "      <th>f8</th>\n",
       "      <th>f9</th>\n",
       "      <th>...</th>\n",
       "      <th>f770</th>\n",
       "      <th>f771</th>\n",
       "      <th>f772</th>\n",
       "      <th>f773</th>\n",
       "      <th>f774</th>\n",
       "      <th>f775</th>\n",
       "      <th>f776</th>\n",
       "      <th>f777</th>\n",
       "      <th>f778</th>\n",
       "      <th>loss</th>\n",
       "    </tr>\n",
       "  </thead>\n",
       "  <tbody>\n",
       "    <tr>\n",
       "      <th>0</th>\n",
       "      <td>1</td>\n",
       "      <td>126</td>\n",
       "      <td>10</td>\n",
       "      <td>0.686842</td>\n",
       "      <td>1100</td>\n",
       "      <td>3</td>\n",
       "      <td>13699</td>\n",
       "      <td>7201.0</td>\n",
       "      <td>4949.0</td>\n",
       "      <td>126.75</td>\n",
       "      <td>...</td>\n",
       "      <td>5</td>\n",
       "      <td>2.14</td>\n",
       "      <td>-1.54</td>\n",
       "      <td>1.18</td>\n",
       "      <td>0.1833</td>\n",
       "      <td>0.7873</td>\n",
       "      <td>1</td>\n",
       "      <td>0</td>\n",
       "      <td>5</td>\n",
       "      <td>0</td>\n",
       "    </tr>\n",
       "    <tr>\n",
       "      <th>1</th>\n",
       "      <td>2</td>\n",
       "      <td>121</td>\n",
       "      <td>10</td>\n",
       "      <td>0.782776</td>\n",
       "      <td>1100</td>\n",
       "      <td>3</td>\n",
       "      <td>84645</td>\n",
       "      <td>240.0</td>\n",
       "      <td>1625.0</td>\n",
       "      <td>123.52</td>\n",
       "      <td>...</td>\n",
       "      <td>6</td>\n",
       "      <td>0.54</td>\n",
       "      <td>-0.24</td>\n",
       "      <td>0.13</td>\n",
       "      <td>0.1926</td>\n",
       "      <td>-0.6787</td>\n",
       "      <td>1</td>\n",
       "      <td>0</td>\n",
       "      <td>5</td>\n",
       "      <td>0</td>\n",
       "    </tr>\n",
       "    <tr>\n",
       "      <th>2</th>\n",
       "      <td>3</td>\n",
       "      <td>126</td>\n",
       "      <td>10</td>\n",
       "      <td>0.500080</td>\n",
       "      <td>1100</td>\n",
       "      <td>3</td>\n",
       "      <td>83607</td>\n",
       "      <td>1800.0</td>\n",
       "      <td>1527.0</td>\n",
       "      <td>127.76</td>\n",
       "      <td>...</td>\n",
       "      <td>13</td>\n",
       "      <td>2.89</td>\n",
       "      <td>-1.73</td>\n",
       "      <td>1.04</td>\n",
       "      <td>0.2521</td>\n",
       "      <td>0.7258</td>\n",
       "      <td>1</td>\n",
       "      <td>0</td>\n",
       "      <td>5</td>\n",
       "      <td>0</td>\n",
       "    </tr>\n",
       "    <tr>\n",
       "      <th>3</th>\n",
       "      <td>4</td>\n",
       "      <td>134</td>\n",
       "      <td>10</td>\n",
       "      <td>0.439874</td>\n",
       "      <td>1100</td>\n",
       "      <td>3</td>\n",
       "      <td>82642</td>\n",
       "      <td>7542.0</td>\n",
       "      <td>1730.0</td>\n",
       "      <td>132.94</td>\n",
       "      <td>...</td>\n",
       "      <td>4</td>\n",
       "      <td>1.29</td>\n",
       "      <td>-0.89</td>\n",
       "      <td>0.66</td>\n",
       "      <td>0.2498</td>\n",
       "      <td>0.7119</td>\n",
       "      <td>1</td>\n",
       "      <td>0</td>\n",
       "      <td>5</td>\n",
       "      <td>0</td>\n",
       "    </tr>\n",
       "    <tr>\n",
       "      <th>4</th>\n",
       "      <td>5</td>\n",
       "      <td>109</td>\n",
       "      <td>9</td>\n",
       "      <td>0.502749</td>\n",
       "      <td>2900</td>\n",
       "      <td>4</td>\n",
       "      <td>79124</td>\n",
       "      <td>89.0</td>\n",
       "      <td>491.0</td>\n",
       "      <td>122.72</td>\n",
       "      <td>...</td>\n",
       "      <td>26</td>\n",
       "      <td>6.11</td>\n",
       "      <td>-3.82</td>\n",
       "      <td>2.51</td>\n",
       "      <td>0.2282</td>\n",
       "      <td>-0.5399</td>\n",
       "      <td>0</td>\n",
       "      <td>0</td>\n",
       "      <td>5</td>\n",
       "      <td>0</td>\n",
       "    </tr>\n",
       "  </tbody>\n",
       "</table>\n",
       "<p>5 rows × 771 columns</p>\n",
       "</div>"
      ],
      "text/plain": [
       "   id   f1  f2        f3    f4  f5     f6      f7      f8      f9  ...   f770  \\\n",
       "0   1  126  10  0.686842  1100   3  13699  7201.0  4949.0  126.75  ...      5   \n",
       "1   2  121  10  0.782776  1100   3  84645   240.0  1625.0  123.52  ...      6   \n",
       "2   3  126  10  0.500080  1100   3  83607  1800.0  1527.0  127.76  ...     13   \n",
       "3   4  134  10  0.439874  1100   3  82642  7542.0  1730.0  132.94  ...      4   \n",
       "4   5  109   9  0.502749  2900   4  79124    89.0   491.0  122.72  ...     26   \n",
       "\n",
       "   f771  f772  f773    f774    f775  f776  f777  f778  loss  \n",
       "0  2.14 -1.54  1.18  0.1833  0.7873     1     0     5     0  \n",
       "1  0.54 -0.24  0.13  0.1926 -0.6787     1     0     5     0  \n",
       "2  2.89 -1.73  1.04  0.2521  0.7258     1     0     5     0  \n",
       "3  1.29 -0.89  0.66  0.2498  0.7119     1     0     5     0  \n",
       "4  6.11 -3.82  2.51  0.2282 -0.5399     0     0     5     0  \n",
       "\n",
       "[5 rows x 771 columns]"
      ]
     },
     "execution_count": 3,
     "metadata": {},
     "output_type": "execute_result"
    }
   ],
   "source": [
    "df.head()"
   ]
  },
  {
   "cell_type": "code",
   "execution_count": 4,
   "metadata": {},
   "outputs": [
    {
     "name": "stdout",
     "output_type": "stream",
     "text": [
      "<class 'pandas.core.frame.DataFrame'>\n",
      "RangeIndex: 105471 entries, 0 to 105470\n",
      "Columns: 771 entries, id to loss\n",
      "dtypes: float64(653), int64(99), object(19)\n",
      "memory usage: 620.4+ MB\n"
     ]
    }
   ],
   "source": [
    "df.info()"
   ]
  },
  {
   "cell_type": "code",
   "execution_count": 5,
   "metadata": {},
   "outputs": [
    {
     "data": {
      "text/plain": [
       "105471"
      ]
     },
     "execution_count": 5,
     "metadata": {},
     "output_type": "execute_result"
    }
   ],
   "source": [
    "len(df)"
   ]
  },
  {
   "cell_type": "code",
   "execution_count": 6,
   "metadata": {},
   "outputs": [
    {
     "data": {
      "text/plain": [
       "id         0\n",
       "f1         0\n",
       "f2         0\n",
       "f3         0\n",
       "f4         0\n",
       "f5         0\n",
       "f6         0\n",
       "f7       182\n",
       "f8       101\n",
       "f9         0\n",
       "f10        0\n",
       "f13        0\n",
       "f14      100\n",
       "f15       48\n",
       "f16        0\n",
       "f17      159\n",
       "f18       23\n",
       "f19       23\n",
       "f20      460\n",
       "f21     1840\n",
       "f22     1698\n",
       "f23      698\n",
       "f24        0\n",
       "f25        0\n",
       "f26      698\n",
       "f27        0\n",
       "f28        0\n",
       "f29        0\n",
       "f30        0\n",
       "f31      698\n",
       "        ... \n",
       "f750     853\n",
       "f751    1458\n",
       "f752       2\n",
       "f753       2\n",
       "f754       2\n",
       "f755       2\n",
       "f756     233\n",
       "f757     800\n",
       "f758     800\n",
       "f759     800\n",
       "f760    1334\n",
       "f761     158\n",
       "f762     158\n",
       "f763    1840\n",
       "f764       0\n",
       "f765       1\n",
       "f766       0\n",
       "f767       0\n",
       "f768       0\n",
       "f769       0\n",
       "f770       0\n",
       "f771       0\n",
       "f772       0\n",
       "f773       0\n",
       "f774    1064\n",
       "f775    1525\n",
       "f776       0\n",
       "f777       0\n",
       "f778       0\n",
       "loss       0\n",
       "Length: 771, dtype: int64"
      ]
     },
     "execution_count": 6,
     "metadata": {},
     "output_type": "execute_result"
    }
   ],
   "source": [
    "df.isna().sum()"
   ]
  },
  {
   "cell_type": "code",
   "execution_count": 7,
   "metadata": {},
   "outputs": [
    {
     "name": "stdout",
     "output_type": "stream",
     "text": [
      "f11 居然是不存在的？！\n",
      "f12 居然是不存在的？！\n",
      "f462 居然是不存在的？！\n",
      "f463 居然是不存在的？！\n",
      "f473 居然是不存在的？！\n",
      "f474 居然是不存在的？！\n",
      "f602 居然是不存在的？！\n",
      "f603 居然是不存在的？！\n",
      "f605 居然是不存在的？！\n"
     ]
    }
   ],
   "source": [
    "cols = list(df)\n",
    "for i in range(1,779):\n",
    "    if 'f' + str(i) not in cols:\n",
    "        print('f' + str(i) , u'居然是不存在的？！')"
   ]
  },
  {
   "cell_type": "code",
   "execution_count": 8,
   "metadata": {},
   "outputs": [],
   "source": [
    "df_missing_values = df.isnull().sum()\n",
    "df_missing_values = df_missing_values[df_missing_values > 0]\n",
    "df_cols_missing_values = list(df_missing_values.index)"
   ]
  },
  {
   "cell_type": "code",
   "execution_count": 9,
   "metadata": {},
   "outputs": [],
   "source": [
    "# df_cols_missing_values"
   ]
  },
  {
   "cell_type": "code",
   "execution_count": 10,
   "metadata": {},
   "outputs": [],
   "source": [
    "for i in df_cols_missing_values: \n",
    "    df[i] = df[i].replace('NA', '0')\n",
    "    df.loc[df[i].isnull(), i] = df[i].median()  "
   ]
  },
  {
   "cell_type": "code",
   "execution_count": 11,
   "metadata": {},
   "outputs": [
    {
     "data": {
      "text/plain": [
       "105471"
      ]
     },
     "execution_count": 11,
     "metadata": {},
     "output_type": "execute_result"
    }
   ],
   "source": [
    "len(df)"
   ]
  },
  {
   "cell_type": "code",
   "execution_count": 12,
   "metadata": {},
   "outputs": [
    {
     "data": {
      "text/plain": [
       "False"
      ]
     },
     "execution_count": 12,
     "metadata": {},
     "output_type": "execute_result"
    }
   ],
   "source": [
    "df['loss'].isnull().any()"
   ]
  },
  {
   "cell_type": "code",
   "execution_count": 13,
   "metadata": {},
   "outputs": [],
   "source": [
    "X = df.iloc[:, df.columns != 'loss']\n",
    "y = df.iloc[:, df.columns == 'loss']"
   ]
  },
  {
   "cell_type": "code",
   "execution_count": 14,
   "metadata": {},
   "outputs": [],
   "source": [
    "X.set_index('id',inplace=True)"
   ]
  },
  {
   "cell_type": "code",
   "execution_count": 15,
   "metadata": {
    "scrolled": true
   },
   "outputs": [
    {
     "name": "stderr",
     "output_type": "stream",
     "text": [
      "C:\\Users\\Jimei\\Anaconda3\\lib\\site-packages\\sklearn\\preprocessing\\data.py:625: DataConversionWarning: Data with input dtype int64, float64, object were all converted to float64 by StandardScaler.\n",
      "  return self.partial_fit(X, y)\n",
      "C:\\Users\\Jimei\\Anaconda3\\lib\\site-packages\\ipykernel_launcher.py:7: DataConversionWarning: Data with input dtype int64, float64, object were all converted to float64 by StandardScaler.\n",
      "  import sys\n",
      "C:\\Users\\Jimei\\Anaconda3\\lib\\site-packages\\ipykernel_launcher.py:9: FutureWarning: Method .as_matrix will be removed in a future version. Use .values instead.\n",
      "  if __name__ == '__main__':\n"
     ]
    },
    {
     "name": "stdout",
     "output_type": "stream",
     "text": [
      "[1.24528122e+02 1.12073268e+02 5.57832545e+01 4.39190987e+01\n",
      " 4.18016929e+01 2.60966993e+01 1.65555076e+01 1.43063780e+01\n",
      " 1.33898231e+01 1.22847665e+01 1.05124733e+01 1.00868270e+01\n",
      " 7.69265602e+00 7.43971287e+00 6.95892863e+00 6.50395789e+00\n",
      " 5.82830837e+00 5.62487044e+00 5.45697504e+00 5.40091542e+00\n",
      " 5.21856570e+00 4.86202131e+00 4.76912569e+00 4.73450402e+00\n",
      " 4.58042391e+00 4.41983553e+00 4.15877157e+00 4.01139317e+00\n",
      " 3.87360136e+00 3.39544154e+00 3.24721499e+00 3.22383651e+00\n",
      " 3.18598969e+00 3.11295960e+00 2.90212301e+00 2.85811523e+00\n",
      " 2.65675983e+00 2.59742932e+00 2.57391480e+00 2.52959323e+00\n",
      " 2.44477423e+00 2.37105938e+00 2.34017797e+00 2.23201101e+00\n",
      " 2.17620423e+00 2.11976007e+00 2.09340382e+00 2.07494975e+00\n",
      " 2.01729969e+00 1.98359225e+00 1.93897209e+00 1.90782605e+00\n",
      " 1.87134801e+00 1.83463915e+00 1.80506231e+00 1.75872871e+00\n",
      " 1.72174385e+00 1.67012348e+00 1.66267131e+00 1.60333167e+00\n",
      " 1.59078199e+00 1.55613238e+00 1.53033450e+00 1.50414409e+00\n",
      " 1.49128506e+00 1.47041853e+00 1.44579568e+00 1.40147741e+00\n",
      " 1.38833413e+00 1.36147300e+00 1.33335049e+00 1.33122257e+00\n",
      " 1.29353919e+00 1.27798759e+00 1.24961080e+00 1.21644268e+00\n",
      " 1.19936941e+00 1.17489228e+00 1.16401802e+00 1.14933608e+00\n",
      " 1.13108263e+00 1.11786705e+00 1.09227142e+00 1.08555365e+00\n",
      " 1.06846811e+00 1.05047319e+00 1.03451420e+00 1.03176405e+00\n",
      " 1.01939809e+00 1.00599494e+00 9.99078149e-01 9.86819580e-01\n",
      " 9.79873439e-01 9.70129500e-01 9.64513554e-01 9.60230161e-01\n",
      " 9.46168865e-01 9.39133009e-01 9.26238862e-01 9.19589739e-01\n",
      " 9.12747608e-01 8.88431958e-01 8.85503963e-01 8.64000908e-01\n",
      " 8.60735947e-01 8.50486920e-01 8.48553358e-01 8.39582282e-01\n",
      " 8.36076032e-01 8.29994933e-01 8.09142936e-01 7.98194566e-01\n",
      " 7.90688863e-01 7.81550935e-01 7.76063059e-01 7.64704200e-01\n",
      " 7.56009269e-01 7.48321774e-01 7.46532289e-01 7.31365310e-01\n",
      " 7.29628406e-01 7.22397348e-01 7.13726456e-01 7.10681523e-01\n",
      " 7.02609853e-01 6.92473618e-01 6.88533031e-01 6.70541179e-01\n",
      " 6.57146282e-01 6.52985741e-01 6.48062916e-01 6.32984002e-01\n",
      " 6.29993738e-01 6.24163895e-01 6.09913318e-01 5.97448632e-01\n",
      " 5.93709333e-01 5.84732309e-01 5.82641053e-01 5.73577456e-01\n",
      " 5.59270318e-01 5.50033415e-01 5.40291212e-01 5.24843051e-01\n",
      " 5.22957120e-01 5.13247437e-01 5.09483884e-01 5.01123587e-01\n",
      " 4.93511286e-01 4.88234323e-01 4.78823211e-01 4.75160189e-01\n",
      " 4.68955178e-01 4.50500118e-01 4.43280752e-01 4.36667442e-01\n",
      " 4.28060506e-01 4.22877458e-01 4.21475105e-01 4.16051879e-01\n",
      " 4.00244144e-01 3.96227466e-01 3.90638605e-01 3.78820948e-01\n",
      " 3.68205115e-01 3.67078784e-01 3.54036769e-01 3.46446702e-01\n",
      " 3.39323588e-01 3.38164170e-01 3.30714563e-01 3.24633963e-01\n",
      " 3.22936333e-01 3.18512968e-01 3.12191242e-01 3.08793746e-01\n",
      " 3.04122455e-01 2.98930697e-01 2.89852748e-01 2.88753859e-01\n",
      " 2.85990250e-01 2.78364204e-01 2.76793888e-01 2.75442303e-01\n",
      " 2.73842665e-01 2.71112142e-01 2.68338685e-01 2.62470180e-01\n",
      " 2.59343392e-01 2.56573996e-01 2.47966577e-01 2.46583788e-01\n",
      " 2.45873602e-01 2.43058315e-01 2.36462264e-01 2.31252718e-01\n",
      " 2.26962597e-01 2.24871168e-01 2.21024551e-01 2.19887692e-01\n",
      " 2.16634317e-01 2.14997675e-01 2.11575947e-01 2.09675512e-01\n",
      " 2.03911633e-01 2.01770378e-01 1.99657584e-01 1.96294449e-01\n",
      " 1.89254033e-01 1.87632657e-01 1.85384265e-01 1.80341549e-01\n",
      " 1.78890596e-01 1.76877233e-01 1.72901808e-01 1.69082165e-01\n",
      " 1.67669735e-01 1.64647176e-01 1.64285730e-01 1.61426983e-01\n",
      " 1.60470438e-01 1.58197656e-01 1.55417234e-01 1.53591710e-01\n",
      " 1.51005449e-01 1.50407597e-01 1.46711553e-01 1.42821229e-01\n",
      " 1.42644811e-01 1.38786034e-01 1.36102551e-01 1.33851204e-01\n",
      " 1.27763719e-01 1.26561078e-01 1.25877813e-01 1.24757664e-01\n",
      " 1.23067403e-01 1.21156475e-01 1.19837851e-01 1.18131667e-01\n",
      " 1.16672732e-01 1.11371089e-01 1.09971985e-01 1.08339892e-01\n",
      " 1.07748134e-01 1.06448916e-01 1.05125548e-01 1.04150774e-01\n",
      " 1.02311498e-01 1.00368626e-01 9.92477225e-02 9.82427015e-02\n",
      " 9.59291742e-02 9.46813550e-02 9.31920478e-02 9.26115462e-02\n",
      " 9.08940448e-02 9.01587874e-02 8.79519676e-02 8.63328754e-02\n",
      " 8.54988895e-02 8.43293239e-02 8.37022919e-02 8.28260066e-02\n",
      " 8.07084441e-02 7.95441300e-02 7.83638390e-02 7.70204165e-02\n",
      " 7.56870330e-02 7.55510546e-02 7.45017554e-02 7.36355872e-02\n",
      " 7.29754175e-02 7.23793922e-02 7.15452764e-02 7.09661759e-02\n",
      " 7.06872941e-02 6.94152078e-02 6.75274371e-02 6.70457750e-02\n",
      " 6.64097926e-02 6.49267698e-02 6.38972735e-02 6.25809848e-02\n",
      " 6.09664016e-02 6.04788827e-02 5.88139392e-02 5.78446929e-02\n",
      " 5.71118737e-02 5.60783777e-02 5.46939786e-02 5.39113867e-02\n",
      " 5.30710853e-02 5.24697133e-02 5.14366255e-02 5.08610137e-02\n",
      " 4.99719099e-02 4.96707067e-02 4.93356533e-02 4.82875411e-02\n",
      " 4.71279072e-02 4.64495186e-02 4.53922386e-02 4.49648159e-02\n",
      " 4.37463110e-02 4.30702816e-02 4.25774070e-02 4.22376343e-02\n",
      " 4.20548385e-02 4.13537954e-02 4.04198726e-02 4.01884824e-02\n",
      " 3.96315215e-02 3.92935232e-02 3.91108222e-02 3.86961431e-02\n",
      " 3.77657692e-02 3.76124189e-02 3.57087852e-02 3.54509730e-02\n",
      " 3.41350980e-02 3.37993226e-02 3.29684765e-02 3.14506738e-02\n",
      " 3.13357948e-02 3.08670257e-02 3.04058732e-02 2.99833043e-02\n",
      " 2.96538071e-02 2.90172262e-02 2.78379467e-02 2.72715952e-02\n",
      " 2.72111206e-02 2.68634615e-02 2.64923038e-02 2.55590984e-02\n",
      " 2.49105166e-02 2.41397320e-02 2.36404349e-02 2.34184350e-02\n",
      " 2.28928149e-02 2.19572566e-02 2.06700006e-02 2.04951029e-02\n",
      " 2.02653144e-02 2.00390324e-02 1.96361561e-02 1.94699338e-02\n",
      " 1.91816504e-02 1.91413585e-02 1.86853947e-02 1.85557947e-02\n",
      " 1.79004785e-02 1.74299103e-02 1.71289765e-02 1.67945051e-02\n",
      " 1.61252836e-02 1.56709053e-02 1.54834854e-02 1.54031213e-02\n",
      " 1.52756385e-02 1.51801467e-02 1.49747467e-02 1.45260293e-02\n",
      " 1.44842156e-02 1.42129398e-02 1.39101093e-02 1.36763375e-02\n",
      " 1.35057705e-02 1.26390579e-02 1.17003613e-02 1.13266491e-02\n",
      " 1.06675534e-02 1.03746420e-02 1.02914798e-02 1.02064150e-02\n",
      " 1.00504169e-02 9.84952086e-03 9.73589075e-03 9.73480655e-03\n",
      " 9.56449324e-03 9.25787112e-03 8.81576185e-03 8.76880092e-03\n",
      " 8.55063254e-03 8.17487025e-03 7.92171670e-03 7.74180559e-03\n",
      " 7.56005218e-03 7.40811331e-03 7.24729002e-03 7.01923896e-03\n",
      " 6.38220332e-03 6.32674474e-03 6.06538765e-03 5.97537534e-03\n",
      " 5.86897967e-03 5.79270503e-03 5.47802796e-03 5.38893312e-03\n",
      " 5.17087647e-03 5.02992139e-03 4.91914415e-03 4.60823960e-03\n",
      " 4.50866453e-03 4.35440345e-03 4.16473244e-03 4.09670808e-03\n",
      " 4.05107439e-03 3.99531185e-03 3.93744457e-03 3.81717448e-03\n",
      " 3.72592788e-03 3.61456441e-03 3.57607075e-03 3.44993374e-03\n",
      " 3.41208175e-03 3.21758134e-03 3.17833687e-03 3.09271352e-03\n",
      " 2.94190638e-03 2.85571361e-03 2.79915053e-03 2.78861574e-03\n",
      " 2.68633254e-03 2.57460466e-03 2.50020544e-03 2.34306053e-03\n",
      " 2.24555046e-03 2.17564467e-03 2.14684124e-03 2.10665604e-03\n",
      " 2.05122616e-03 1.95386110e-03 1.93972899e-03 1.89600866e-03\n",
      " 1.83337204e-03 1.79868318e-03 1.75792070e-03 1.73383937e-03\n",
      " 1.72609290e-03 1.68239757e-03 1.62281887e-03 1.60641228e-03\n",
      " 1.58796063e-03 1.57034561e-03 1.47127493e-03 1.46108424e-03\n",
      " 1.37283731e-03 1.32258005e-03 1.30847193e-03 1.29416377e-03\n",
      " 1.27031699e-03 1.22776127e-03 1.20598698e-03 1.14581568e-03\n",
      " 1.13319708e-03 1.12508618e-03 1.07234548e-03 1.05603671e-03\n",
      " 9.63120678e-04 9.45125438e-04 9.23017958e-04 8.88757576e-04\n",
      " 8.50551472e-04 8.00026257e-04 7.67589153e-04 7.50076534e-04\n",
      " 7.46053506e-04 7.20555681e-04 7.06085313e-04 6.79748635e-04\n",
      " 6.63885497e-04 6.36102827e-04 6.26140577e-04 5.89362564e-04\n",
      " 5.39923028e-04 5.23213784e-04 5.05438446e-04 4.85209014e-04\n",
      " 4.69889996e-04 4.62180379e-04 4.39499698e-04 4.29711731e-04\n",
      " 4.16641551e-04 4.09522093e-04 3.69283533e-04 3.44792509e-04\n",
      " 3.35722835e-04 3.31769043e-04 3.24438807e-04 3.21310557e-04\n",
      " 3.13277480e-04 2.85384074e-04 2.78351226e-04 2.67034733e-04\n",
      " 2.65664628e-04 2.44461819e-04 2.39438528e-04 2.25046509e-04\n",
      " 1.95640829e-04 1.90132433e-04 1.87390450e-04 1.78976958e-04\n",
      " 1.74111739e-04 1.63729313e-04 1.51292131e-04 1.50350699e-04\n",
      " 1.48703966e-04 1.43715021e-04 1.36566118e-04 1.31273512e-04\n",
      " 1.15214010e-04 1.05056432e-04 1.01223336e-04 9.91939277e-05\n",
      " 9.79113015e-05 9.53282810e-05 9.30008082e-05 9.01693459e-05\n",
      " 8.45175858e-05 8.31869740e-05 7.57286196e-05 7.44148767e-05\n",
      " 6.91048856e-05 6.74992158e-05 6.40132370e-05 6.27440913e-05\n",
      " 6.21425913e-05 6.13892611e-05 5.97760099e-05 5.72625720e-05\n",
      " 5.50286068e-05 5.01853057e-05 4.80767650e-05 4.62437982e-05\n",
      " 4.54079030e-05 4.42812357e-05 4.19540907e-05 4.11069017e-05\n",
      " 3.89207943e-05 3.75790576e-05 3.37141566e-05 3.20370176e-05\n",
      " 2.32951235e-05 2.29261553e-05 2.18038480e-05 2.01787319e-05\n",
      " 1.98419397e-05 1.90412949e-05 1.89253767e-05 1.82267166e-05\n",
      " 1.70355277e-05 1.69009744e-05 1.64599055e-05 1.58138797e-05\n",
      " 1.42540316e-05 1.37011901e-05 1.15777397e-05 1.01884032e-05\n",
      " 9.58617431e-06 8.57568928e-06 8.31068649e-06 8.02619052e-06\n",
      " 6.76968359e-06 6.60020392e-06 6.53130254e-06 6.05059097e-06\n",
      " 5.55174763e-06 4.17384329e-06 4.15153615e-06 3.99391894e-06\n",
      " 3.53252679e-06 3.46682353e-06 3.05666416e-06 2.97663780e-06\n",
      " 2.84769712e-06 2.72951339e-06 2.65775188e-06 2.54041446e-06\n",
      " 2.11738320e-06 2.04493145e-06 1.89498797e-06 1.56662608e-06\n",
      " 1.38382573e-06 1.32457918e-06 1.19478967e-06 1.16007905e-06\n",
      " 1.03249314e-06 9.80964843e-07 7.31590678e-07 7.22143327e-07\n",
      " 7.03161086e-07 6.59020076e-07 6.37971067e-07 4.48943163e-07\n",
      " 3.83007601e-07 3.58936276e-07 3.51220762e-07 2.75576361e-07\n",
      " 2.61867462e-07 2.04463399e-07 1.96131278e-07 1.77776782e-07\n",
      " 1.71040550e-07 1.51120819e-07 1.40798080e-07 1.30739574e-07\n",
      " 9.97357276e-08 8.93724666e-08 6.20927616e-08 5.83476744e-08\n",
      " 5.23853239e-08 4.70837805e-08 4.04651638e-08 3.77691594e-08\n",
      " 3.66835427e-08 3.55405944e-08 3.02814832e-08 2.34613036e-08\n",
      " 1.85411113e-08 1.47778854e-08 1.34169788e-08 1.23484401e-08\n",
      " 7.66333340e-09 7.55684433e-09 6.49069879e-09 6.19673109e-09\n",
      " 5.74495938e-09 5.66922171e-09 4.58970744e-09 1.63741935e-09\n",
      " 1.41809795e-09 1.12648154e-09 4.80781828e-10 4.11213586e-10\n",
      " 3.30696934e-10 2.86962350e-10 2.27581504e-10 2.13018163e-10\n",
      " 1.29758077e-10 9.61253542e-11 9.02461553e-11 6.61492593e-11\n",
      " 3.82722843e-11 2.50022871e-11 1.56211761e-11 4.95263766e-12\n",
      " 4.52855252e-12 2.66154112e-12 6.95960430e-13 2.70889845e-13\n",
      " 3.02334268e-14 1.93418883e-14 1.06400697e-17 2.46203885e-29\n",
      " 2.86729894e-30 2.64260820e-30 2.56838018e-30 1.61591723e-30\n",
      " 5.91288948e-31 5.91288948e-31 5.91288948e-31 5.91288948e-31\n",
      " 5.91288948e-31 5.91288948e-31 5.91288948e-31 5.91288948e-31\n",
      " 5.91288948e-31 5.91288948e-31 5.91288948e-31 5.91288948e-31\n",
      " 5.91288948e-31 5.91288948e-31 5.91288948e-31 5.91288948e-31\n",
      " 5.91288948e-31 5.91288948e-31 5.91288948e-31 5.91288948e-31\n",
      " 5.91288948e-31 5.91288948e-31 5.91288948e-31 5.91288948e-31\n",
      " 5.91288948e-31 5.91288948e-31 5.91288948e-31 5.91288948e-31\n",
      " 5.91288948e-31 5.91288948e-31 5.91288948e-31 5.91288948e-31\n",
      " 5.91288948e-31 5.91288948e-31 5.91288948e-31 5.91288948e-31\n",
      " 5.91288948e-31 5.91288948e-31 5.91288948e-31 5.91288948e-31\n",
      " 5.91288948e-31 5.91288948e-31 5.91288948e-31 5.91288948e-31\n",
      " 5.91288948e-31 5.91288948e-31 5.91288948e-31 5.91288948e-31\n",
      " 5.91288948e-31 5.91288948e-31 5.91288948e-31 5.91288948e-31\n",
      " 5.91288948e-31 5.91288948e-31 5.91288948e-31 5.91288948e-31\n",
      " 5.91288948e-31 5.91288948e-31 5.91288948e-31 5.91288948e-31\n",
      " 5.91288948e-31 5.91288948e-31 5.91288948e-31 5.91288948e-31\n",
      " 5.91288948e-31 5.91288948e-31 5.91288948e-31 5.91288948e-31\n",
      " 5.91288948e-31 5.91288948e-31 5.91288948e-31 5.91288948e-31\n",
      " 5.91288948e-31 5.91288948e-31 5.91288948e-31 5.91288948e-31\n",
      " 5.91288948e-31 5.91288948e-31 5.91288948e-31 5.91288948e-31\n",
      " 5.91288948e-31 5.91288948e-31 5.91288948e-31 5.91288948e-31\n",
      " 5.91288948e-31 5.91288948e-31 5.91288948e-31 5.91288948e-31\n",
      " 5.91288948e-31 5.91288948e-31 5.91288948e-31 5.91288948e-31\n",
      " 5.91288948e-31 5.91288948e-31 5.91288948e-31 5.91288948e-31\n",
      " 5.91288948e-31 5.91288948e-31 5.91288948e-31 5.91288948e-31\n",
      " 5.91288948e-31 5.91288948e-31 5.91288948e-31 5.91288948e-31\n",
      " 5.91288948e-31 5.91288948e-31 5.08138790e-31 2.88434619e-31\n",
      " 8.31206893e-32]\n"
     ]
    },
    {
     "data": {
      "image/png": "[encoded data removed]",
      "text/plain": [
       "<Figure size 432x288 with 1 Axes>"
      ]
     },
     "metadata": {},
     "output_type": "display_data"
    }
   ],
   "source": [
    "cols_category = ['f776', 'f777']\n",
    "cols_not_category = [i for i in list(X) if i not in cols_category]\n",
    "# Standardization: mean removal and variance scaling\n",
    "scaler = preprocessing.StandardScaler(with_mean=True, with_std=True).fit(X[cols_not_category])\n",
    "#scaler.mean_\n",
    "#scaler.scale_\n",
    "X_scaled = scaler.transform(X[cols_not_category])\n",
    "# Add the categorical columns\n",
    "X_scaled = np.append(X_scaled, X[cols_category].as_matrix(), axis=1)\n",
    "# Try PCA\n",
    "pca = PCA()\n",
    "pca.fit(X_scaled)\n",
    "print(pca.explained_variance_)\n",
    "plt.plot(pca.explained_variance_, linewidth=2)\n",
    "pca_reduc = PCA(n_components=50)\n",
    "X_reduced = pca_reduc.fit(X_scaled).transform(X_scaled)"
   ]
  },
  {
   "cell_type": "code",
   "execution_count": 16,
   "metadata": {},
   "outputs": [
    {
     "data": {
      "text/plain": [
       "[<matplotlib.lines.Line2D at 0x1d47549f828>]"
      ]
     },
     "execution_count": 16,
     "metadata": {},
     "output_type": "execute_result"
    },
    {
     "data": {
      "image/png": "[encoded data removed]",
      "text/plain": [
       "<Figure size 432x288 with 1 Axes>"
      ]
     },
     "metadata": {},
     "output_type": "display_data"
    }
   ],
   "source": [
    "y=pd.DataFrame(y)\n",
    "plt.plot(y)"
   ]
  },
  {
   "cell_type": "code",
   "execution_count": 17,
   "metadata": {},
   "outputs": [
    {
     "name": "stderr",
     "output_type": "stream",
     "text": [
      "C:\\Users\\Jimei\\Anaconda3\\lib\\site-packages\\sklearn\\preprocessing\\data.py:323: DataConversionWarning: Data with input dtype int64 were all converted to float64 by MinMaxScaler.\n",
      "  return self.partial_fit(X, y)\n"
     ]
    }
   ],
   "source": [
    "from sklearn.preprocessing import MinMaxScaler\n",
    "scaler = MinMaxScaler(feature_range=(0, 1))\n",
    "X_reduced = scaler.fit_transform(X_reduced)\n",
    "y=scaler.fit_transform(y)"
   ]
  },
  {
   "cell_type": "code",
   "execution_count": 18,
   "metadata": {},
   "outputs": [
    {
     "data": {
      "text/plain": [
       "[<matplotlib.lines.Line2D at 0x1d471ba62b0>]"
      ]
     },
     "execution_count": 18,
     "metadata": {},
     "output_type": "execute_result"
    },
    {
     "data": {
      "image/png": "[encoded data removed]",
      "text/plain": [
       "<Figure size 432x288 with 1 Axes>"
      ]
     },
     "metadata": {},
     "output_type": "display_data"
    }
   ],
   "source": [
    "plt.plot(y)"
   ]
  },
  {
   "cell_type": "code",
   "execution_count": 19,
   "metadata": {},
   "outputs": [],
   "source": [
    "from sklearn.model_selection import train_test_split\n",
    "X_train, X_test, y_train, y_test = train_test_split(X_reduced,y,test_size=0.3)"
   ]
  },
  {
   "cell_type": "code",
   "execution_count": 20,
   "metadata": {},
   "outputs": [
    {
     "name": "stderr",
     "output_type": "stream",
     "text": [
      "C:\\Users\\Jimei\\Anaconda3\\lib\\site-packages\\h5py\\__init__.py:36: FutureWarning: Conversion of the second argument of issubdtype from `float` to `np.floating` is deprecated. In future, it will be treated as `np.float64 == np.dtype(float).type`.\n",
      "  from ._conv import register_converters as _register_converters\n",
      "Using TensorFlow backend.\n"
     ]
    },
    {
     "name": "stdout",
     "output_type": "stream",
     "text": [
      "Train on 73829 samples, validate on 31642 samples\n",
      "Epoch 1/20\n",
      " - 21s - loss: 0.0020 - val_loss: 0.0019\n",
      "Epoch 2/20\n",
      " - 15s - loss: 0.0019 - val_loss: 0.0019\n",
      "Epoch 3/20\n",
      " - 13s - loss: 0.0019 - val_loss: 0.0019\n",
      "Epoch 4/20\n",
      " - 14s - loss: 0.0019 - val_loss: 0.0019\n",
      "Epoch 5/20\n",
      " - 19s - loss: 0.0019 - val_loss: 0.0019\n",
      "Epoch 6/20\n",
      " - 19s - loss: 0.0019 - val_loss: 0.0019\n",
      "Epoch 7/20\n",
      " - 21s - loss: 0.0019 - val_loss: 0.0019\n",
      "Epoch 8/20\n",
      " - 20s - loss: 0.0019 - val_loss: 0.0019\n",
      "Epoch 9/20\n",
      " - 20s - loss: 0.0019 - val_loss: 0.0019\n",
      "Epoch 10/20\n",
      " - 14s - loss: 0.0019 - val_loss: 0.0019\n",
      "Epoch 11/20\n",
      " - 15s - loss: 0.0019 - val_loss: 0.0019\n",
      "Epoch 12/20\n",
      " - 14s - loss: 0.0019 - val_loss: 0.0019\n",
      "Epoch 13/20\n",
      " - 13s - loss: 0.0019 - val_loss: 0.0019\n",
      "Epoch 14/20\n",
      " - 14s - loss: 0.0019 - val_loss: 0.0019\n",
      "Epoch 15/20\n",
      " - 13s - loss: 0.0019 - val_loss: 0.0019\n",
      "Epoch 16/20\n",
      " - 13s - loss: 0.0019 - val_loss: 0.0019\n",
      "Epoch 17/20\n",
      " - 13s - loss: 0.0019 - val_loss: 0.0019\n",
      "Epoch 18/20\n",
      " - 12s - loss: 0.0019 - val_loss: 0.0019\n",
      "Epoch 19/20\n",
      " - 13s - loss: 0.0019 - val_loss: 0.0019\n",
      "Epoch 20/20\n",
      " - 12s - loss: 0.0019 - val_loss: 0.0019\n"
     ]
    }
   ],
   "source": [
    "from keras.optimizers import Adam\n",
    "from keras.layers.core import Dense, Dropout, Activation\n",
    "from keras.models import Sequential\n",
    "from keras.callbacks import EarlyStopping\n",
    "model = Sequential()\n",
    "input = X_train.shape[1]\n",
    "model.add(Dense(32, input_shape=(input,)))\n",
    "model.add(Activation('relu'))\n",
    "model.add(Dense(16))\n",
    "model.add(Activation('relu'))\n",
    "model.add(Dense(1))\n",
    "model.compile(loss='mean_squared_error', optimizer=Adam())\n",
    "early_stopping = EarlyStopping(monitor='val_loss', patience=50, verbose=2)\n",
    "history = model.fit(X_train, y_train, epochs=20, batch_size=5, validation_data=(X_test, y_test), verbose=2, shuffle=False, callbacks=[early_stopping])# loss"
   ]
  },
  {
   "cell_type": "code",
   "execution_count": 21,
   "metadata": {},
   "outputs": [
    {
     "data": {
      "image/png": "[encoded data removed]",
      "text/plain": [
       "<Figure size 432x288 with 1 Axes>"
      ]
     },
     "metadata": {},
     "output_type": "display_data"
    }
   ],
   "source": [
    "from matplotlib import pyplot\n",
    "from math import sqrt\n",
    "from numpy import concatenate\n",
    "pyplot.plot(history.history['loss'], label='train')\n",
    "pyplot.plot(history.history['val_loss'], label='test')\n",
    "pyplot.legend()\n",
    "pyplot.show()"
   ]
  },
  {
   "cell_type": "code",
   "execution_count": 22,
   "metadata": {},
   "outputs": [],
   "source": [
    "y_pred = model.predict(X_test)"
   ]
  },
  {
   "cell_type": "code",
   "execution_count": 23,
   "metadata": {},
   "outputs": [
    {
     "data": {
      "text/plain": [
       "0.013821405027998026"
      ]
     },
     "execution_count": 23,
     "metadata": {},
     "output_type": "execute_result"
    }
   ],
   "source": [
    "from sklearn.metrics import mean_absolute_error\n",
    "mean_absolute_error(y_test, y_pred)"
   ]
  },
  {
   "cell_type": "code",
   "execution_count": 24,
   "metadata": {},
   "outputs": [
    {
     "data": {
      "text/plain": [
       "0.0018642947263571759"
      ]
     },
     "execution_count": 24,
     "metadata": {},
     "output_type": "execute_result"
    }
   ],
   "source": [
    "from sklearn.metrics import mean_squared_error\n",
    "mean_squared_error(y_test, y_pred)"
   ]
  }
 ],
 "metadata": {
  "kernelspec": {
   "display_name": "Python 3",
   "language": "python",
   "name": "python3"
  },
  "language_info": {
   "codemirror_mode": {
    "name": "ipython",
    "version": 3
   },
   "file_extension": ".py",
   "mimetype": "text/x-python",
   "name": "python",
   "nbconvert_exporter": "python",
   "pygments_lexer": "ipython3",
   "version": "3.6.5"
  }
 },
 "nbformat": 4,
 "nbformat_minor": 2
}
